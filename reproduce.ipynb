{
 "cells": [
  {
   "cell_type": "markdown",
   "metadata": {
    "vscode": {
     "languageId": "plaintext"
    }
   },
   "source": [
    "### This Reproducible Paper Project can be ran either in trovi terminal or jupyter notebook bash in reproduce.ipynb\\n,\n",
    "### If you decide to run with the notebook, then dont forget to change the kernel to bash instead of python in the top right corner"
   ]
  },
  {
   "cell_type": "markdown",
   "metadata": {},
   "source": [
    "#### Deactivate default conda env from trovi"
   ]
  },
  {
   "cell_type": "code",
   "execution_count": 1,
   "metadata": {
    "tags": []
   },
   "outputs": [
    {
     "name": "stdout",
     "output_type": "stream",
     "text": [
      "no change     /opt/conda/condabin/conda\n",
      "no change     /opt/conda/bin/conda\n",
      "no change     /opt/conda/bin/conda-env\n",
      "no change     /opt/conda/bin/activate\n",
      "no change     /opt/conda/bin/deactivate\n",
      "no change     /opt/conda/etc/profile.d/conda.sh\n",
      "no change     /opt/conda/etc/fish/conf.d/conda.fish\n",
      "no change     /opt/conda/shell/condabin/Conda.psm1\n",
      "no change     /opt/conda/shell/condabin/conda-hook.ps1\n",
      "no change     /opt/conda/lib/python3.10/site-packages/xontrib/conda.xsh\n",
      "no change     /opt/conda/etc/profile.d/conda.csh\n",
      "no change     /home/radhofanazizi_gmail_com/.bashrc\n",
      "No action taken.\n",
      "\u001b[1mWorking on project \u001b[34;1mCHI-251412\u001b[;1m.\u001b[0m\n",
      "\u001b[1mTo use a different project, set the \u001b[34;1mOS_PROJECT_NAME\u001b[;1m environment variable.\u001b[0m\n",
      "Agent pid 256\n",
      "Identity added: /work/.ssh/id_rsa (/work/.ssh/id_rsa)\n"
     ]
    }
   ],
   "source": [
    "( conda init &&\n",
    "conda deactivate &&\n",
    "source ~/.bashrc )"
   ]
  },
  {
   "cell_type": "markdown",
   "metadata": {},
   "source": [
    "#### Install requirements.txt"
   ]
  },
  {
   "cell_type": "code",
   "execution_count": 2,
   "metadata": {
    "tags": []
   },
   "outputs": [
    {
     "name": "stdout",
     "output_type": "stream",
     "text": [
      "Collecting scikit-learn\n",
      "  Downloading scikit_learn-1.6.1-cp310-cp310-manylinux_2_17_x86_64.manylinux2014_x86_64.whl (13.5 MB)\n",
      "     ━━━━━━━━━━━━━━━━━━━━━━━━━━━━━━━━━━━━━━━━ 13.5/13.5 MB 16.9 MB/s eta 0:00:00\n",
      "\n",
      "Requirement already satisfied: numpy in /opt/conda/lib/python3.10/site-packages (from -r requirements.txt (line 2)) (1.26.4)\n",
      "Requirement already satisfied: matplotlib in /opt/conda/lib/python3.10/site-packages (from -r requirements.txt (line 3)) (3.10.0)\n",
      "Requirement already satisfied: pandas in /opt/conda/lib/python3.10/site-packages (from -r requirements.txt (line 4)) (1.5.3)\n",
      "Collecting jsonpickle\n",
      "  Downloading jsonpickle-4.0.2-py3-none-any.whl (46 kB)\n",
      "     ━━━━━━━━━━━━━━━━━━━━━━━━━━━━━━━━━━━━━━━━ 46.3/46.3 kB 3.1 MB/s eta 0:00:00\n",
      "\n",
      "Collecting nearpy\n",
      "  Downloading NearPy-1.0.0-py2.py3-none-any.whl (64 kB)\n",
      "     ━━━━━━━━━━━━━━━━━━━━━━━━━━━━━━━━━━━━━━━━ 64.4/64.4 kB 4.3 MB/s eta 0:00:00\n",
      "\n",
      "Collecting treeinterpreter\n",
      "  Downloading treeinterpreter-0.2.3-py2.py3-none-any.whl (6.0 kB)\n",
      "Collecting cleanlab\n",
      "  Downloading cleanlab-2.7.0-py3-none-any.whl (347 kB)\n",
      "     ━━━━━━━━━━━━━━━━━━━━━━━━━━━━━━━━━━━━━━━ 347.8/347.8 kB 4.6 MB/s eta 0:00:00\n",
      "\n",
      "Collecting joblib>=1.2.0\n",
      "  Downloading joblib-1.4.2-py3-none-any.whl (301 kB)\n",
      "     ━━━━━━━━━━━━━━━━━━━━━━━━━━━━━━━━━━━━━━━ 301.8/301.8 kB 3.8 MB/s eta 0:00:00\n",
      "\n",
      "Collecting scipy>=1.6.0\n",
      "  Downloading scipy-1.15.2-cp310-cp310-manylinux_2_17_x86_64.manylinux2014_x86_64.whl (37.6 MB)\n",
      "     ━━━━━━━━━━━━━━━━━━━━━━━━━━━━━━━━━━━━━━━━ 37.6/37.6 MB 9.9 MB/s eta 0:00:00\n",
      "\n",
      "Collecting threadpoolctl>=3.1.0\n",
      "  Downloading threadpoolctl-3.5.0-py3-none-any.whl (18 kB)\n",
      "Requirement already satisfied: contourpy>=1.0.1 in /opt/conda/lib/python3.10/site-packages (from matplotlib->-r requirements.txt (line 3)) (1.3.1)\n",
      "Requirement already satisfied: python-dateutil>=2.7 in /opt/conda/lib/python3.10/site-packages (from matplotlib->-r requirements.txt (line 3)) (2.8.2)\n",
      "Requirement already satisfied: kiwisolver>=1.3.1 in /opt/conda/lib/python3.10/site-packages (from matplotlib->-r requirements.txt (line 3)) (1.4.8)\n",
      "Requirement already satisfied: pyparsing>=2.3.1 in /opt/conda/lib/python3.10/site-packages (from matplotlib->-r requirements.txt (line 3)) (3.2.1)\n",
      "Requirement already satisfied: packaging>=20.0 in /opt/conda/lib/python3.10/site-packages (from matplotlib->-r requirements.txt (line 3)) (23.0)\n",
      "Requirement already satisfied: fonttools>=4.22.0 in /opt/conda/lib/python3.10/site-packages (from matplotlib->-r requirements.txt (line 3)) (4.56.0)\n",
      "Requirement already satisfied: pillow>=8 in /opt/conda/lib/python3.10/site-packages (from matplotlib->-r requirements.txt (line 3)) (11.1.0)\n",
      "Requirement already satisfied: cycler>=0.10 in /opt/conda/lib/python3.10/site-packages (from matplotlib->-r requirements.txt (line 3)) (0.12.1)\n",
      "Requirement already satisfied: pytz>=2020.1 in /opt/conda/lib/python3.10/site-packages (from pandas->-r requirements.txt (line 4)) (2022.7.1)\n",
      "Collecting future\n",
      "  Downloading future-1.0.0-py3-none-any.whl (491 kB)\n",
      "     ━━━━━━━━━━━━━━━━━━━━━━━━━━━━━━━━━━━━━━ 491.3/491.3 kB 19.7 MB/s eta 0:00:00\n",
      "\n",
      "Collecting bitarray\n",
      "  Downloading bitarray-3.0.0-cp310-cp310-manylinux_2_17_x86_64.manylinux2014_x86_64.whl (278 kB)\n",
      "     ━━━━━━━━━━━━━━━━━━━━━━━━━━━━━━━━━━━━━━ 278.3/278.3 kB 14.7 MB/s eta 0:00:00\n",
      "\n",
      "Requirement already satisfied: tqdm>=4.53.0 in /opt/conda/lib/python3.10/site-packages (from cleanlab->-r requirements.txt (line 8)) (4.65.0)\n",
      "Collecting termcolor>=2.4.0\n",
      "  Downloading termcolor-2.5.0-py3-none-any.whl (7.8 kB)\n",
      "Requirement already satisfied: six>=1.5 in /opt/conda/lib/python3.10/site-packages (from python-dateutil>=2.7->matplotlib->-r requirements.txt (line 3)) (1.16.0)\n",
      "Installing collected packages: treeinterpreter, bitarray, threadpoolctl, termcolor, scipy, jsonpickle, joblib, future, scikit-learn, nearpy, cleanlab\n",
      "Successfully installed bitarray-3.0.0 cleanlab-2.7.0 future-1.0.0 joblib-1.4.2 jsonpickle-4.0.2 nearpy-1.0.0 scikit-learn-1.6.1 scipy-1.15.2 termcolor-2.5.0 threadpoolctl-3.5.0 treeinterpreter-0.2.3\n"
     ]
    }
   ],
   "source": [
    "pip install -r requirements.txt"
   ]
  },
  {
   "cell_type": "markdown",
   "metadata": {},
   "source": [
    "#### Setup directories"
   ]
  },
  {
   "cell_type": "code",
   "execution_count": 3,
   "metadata": {
    "tags": []
   },
   "outputs": [],
   "source": [
    "mkdir -p plots models results"
   ]
  },
  {
   "cell_type": "markdown",
   "metadata": {},
   "source": [
    "#### Download the csvs"
   ]
  },
  {
   "cell_type": "code",
   "execution_count": 4,
   "metadata": {
    "tags": []
   },
   "outputs": [
    {
     "name": "stdout",
     "output_type": "stream",
     "text": [
      "--2025-02-19 08:56:20--  https://zenodo.org/record/6388301/files/csvs.tar.gz?download=1\n",
      "Resolving zenodo.org (zenodo.org)... 188.185.48.194, 188.185.43.25, 188.185.45.92, ...\n",
      "Connecting to zenodo.org (zenodo.org)|188.185.48.194|:443... connected.\n",
      "HTTP request sent, awaiting response... 301 MOVED PERMANENTLY\n",
      "Location: /records/6388301/files/csvs.tar.gz [following]\n",
      "--2025-02-19 08:56:23--  https://zenodo.org/records/6388301/files/csvs.tar.gz\n",
      "Reusing existing connection to zenodo.org:443.\n",
      "HTTP request sent, awaiting response... 200 OK\n",
      "Length: 60141155 (57M) [application/octet-stream]\n",
      "Saving to: ‘csvs/csvs.tar.gz’\n",
      "\n",
      "csvs/csvs.tar.gz    100%[===================>]  57.35M  3.91MB/s    in 29s     \n",
      "\n",
      "2025-02-19 08:56:52 (1.99 MB/s) - ‘csvs/csvs.tar.gz’ saved [60141155/60141155]\n",
      "\n",
      "csvs/timeseries_warmup_runtime_700.csv\n",
      "csvs/mixture_runtime_70.csv\n",
      "csvs/mixture_warmup_runtime_700.csv\n",
      "csvs/timeseries_warmup_runtime_400.csv\n",
      "csvs/lrm_warmup_runtime_700.csv\n",
      "csvs/lrm_runtime_60.csv\n",
      "csvs/mixture_runtime_90.csv\n",
      "csvs/timeseries_runtime_80.csv\n",
      "csvs/timeseries_runtime_10.csv\n",
      "csvs/mixture_runtime_80.csv\n",
      "csvs/lrm_warmup_runtime_600.csv\n",
      "csvs/lrm_warmup_runtime_100.csv\n",
      "csvs/mixture_warmup_runtime_300.csv\n",
      "csvs/timeseries_warmup_runtime_1000.csv\n",
      "csvs/mixture_runtime_60.csv\n",
      "csvs/mixture_runtime_20.csv\n",
      "csvs/lrm_warmup_runtime_900.csv\n",
      "csvs/timeseries_runtime_70.csv\n",
      "csvs/timeseries_runtime_20.csv\n",
      "csvs/lrm_runtime_70.csv\n",
      "csvs/timeseries_runtime_90.csv\n",
      "csvs/timeseries_runtime_50.csv\n",
      "csvs/lrm_runtime_50.csv\n",
      "csvs/timeseries_metrics.csv\n",
      "csvs/timeseries_runtime_100.csv\n",
      "csvs/mixture_warmup_runtime_600.csv\n",
      "csvs/timeseries_features.csv\n",
      "csvs/lrm_warmup_runtime_300.csv\n",
      "csvs/mixture_warmup_runtime_900.csv\n",
      "csvs/timeseries_runtime_60.csv\n",
      "csvs/lrm_features.csv\n",
      "csvs/mixture_runtime_50.csv\n",
      "csvs/lrm_runtime_80.csv\n",
      "csvs/lrm_warmup_runtime_200.csv\n",
      "csvs/lrm_runtime_20.csv\n",
      "csvs/mixture_features.csv\n",
      "csvs/mixture_runtime_40.csv\n",
      "csvs/timeseries_warmup_runtime_200.csv\n",
      "csvs/lrm_runtime_90.csv\n",
      "csvs/mixture_runtime_100.csv\n",
      "csvs/mixture_warmup_runtime_100.csv\n",
      "csvs/lrm_warmup_runtime_400.csv\n",
      "csvs/mixture_runtime_10.csv\n",
      "csvs/mixture_warmup_runtime_800.csv\n",
      "csvs/lrm_warmup_runtime_500.csv\n",
      "csvs/mixture_warmup_runtime_1000.csv\n",
      "csvs/mixture_runtime_30.csv\n",
      "csvs/lrm_warmup_runtime_800.csv\n",
      "csvs/mixture_warmup_runtime_200.csv\n",
      "csvs/lrm_runtime_10.csv\n",
      "csvs/timeseries_warmup_runtime_100.csv\n",
      "csvs/timeseries_warmup_runtime_800.csv\n",
      "csvs/mixture_warmup_runtime_400.csv\n",
      "csvs/lrm_runtime_40.csv\n",
      "csvs/timeseries_runtime_40.csv\n",
      "csvs/lrm_runtime_30.csv\n",
      "csvs/timeseries_warmup_runtime_900.csv\n",
      "csvs/timeseries_warmup_runtime_300.csv\n",
      "csvs/lrm_runtime_100.csv\n",
      "csvs/timeseries_runtime_30.csv\n",
      "csvs/timeseries_warmup_runtime_600.csv\n",
      "csvs/mixture_warmup_runtime_500.csv\n",
      "csvs/timeseries_warmup_runtime_500.csv\n",
      "csvs/lrm_metrics.csv\n",
      "csvs/.gitattributes\n",
      "csvs/lrm_warmup_runtime_1000.csv\n",
      "csvs/mixture_metrics.csv\n"
     ]
    }
   ],
   "source": [
    "wget -O csvs/csvs.tar.gz \"https://zenodo.org/record/6388301/files/csvs.tar.gz?download=1\"\n",
    "tar -xzvf csvs/csvs.tar.gz -C csvs --strip-components=1"
   ]
  },
  {
   "cell_type": "markdown",
   "metadata": {},
   "source": [
    "#### Running sixthsense (lightspeed, rf, rhat_min)"
   ]
  },
  {
   "cell_type": "code",
   "execution_count": null,
   "metadata": {
    "tags": []
   },
   "outputs": [
    {
     "name": "stdout",
     "output_type": "stream",
     "text": [
      "Namespace(feature_file=['csvs/lrm_features.csv'], feature_other=None, labels_file=['csvs/lrm_metrics.csv'], metric='rhat_min', threshold=None, ignore_vi=True, split_ratio=0.8, split_template_name='lightspeed', split_by_template=True, balance=False, balance_by_weight=True, algorithm='rf', cv=True, cv_template=False, plot=True, validation=False, learning=False, grid=False, metrics_suffix='avg', runtime=False, predict=None, tree=False, train_by_size=False, split_class=None, shuffle=False, saveas='plots/results_rhat_min_lrm.png', feature_select=False, plt_template=False, warmup=False, stratify_data=False, special_index=None, ignore=None, keep=['_ast_', 'dt_', 'var_min', 'var_max', 'data_size'], selected=None, with_noise=False, tfpn=None, allpreds=False, test_features=None, test_labels=None, runtime_iteration=None, train_size=1.0, metric_filter=None, projection_size=None, max_motifs=0, nooverlap=None)\n",
      "/opt/conda/lib/python3.10/site-packages/pandas/core/dtypes/astype.py:170: RuntimeWarning: overflow encountered in cast\n",
      "  return arr.astype(dtype, copy=True)\n",
      "2.6306503\n",
      "Infinite: 57\n",
      "Nans: 0\n",
      "Threshold : 1.05============================================\n",
      "common 11813\n",
      "Total Positive samples: 5440\n",
      "Total Negative samples : 6373\n",
      "Templates : 1643\n",
      "lightspeed\n",
      "ids found:   107\n",
      "Templates removed :  {'lightspeed'}\n",
      "Train size: 11706, Test size: 107\n",
      "Train\n",
      "{'electric_1b_chr': 138, 'electric_inter': 127, 'pilots_expansion': 89, 'ideo_two_pred': 118, 'earnings1': 90, 'radon_chr': 130, 'sesame_one_pred_a': 107, 'mesquite_log': 122, 'radon_vary_inter_slope_17.1': 125, 'wells_predicted': 11, 'radon_vary_intercept_nofloor_chr': 128, 'radon': 102, 'wells_d100ars': 46, 'kidiq_interaction_c': 119, 'ideo_interactions': 133, 'unemployment': 125, 'wells_daae_c': 87, 'sesame_one_pred_b': 120, 'radon_vary_intercept_floor2_chr': 132, 'congress': 130, 'electric_1c_chr': 116, 'radon_inter_vary': 123, 'wells_logit': 50, 'earnings_vary_si': 138, 'hiv_chr': 90, 'schools': 132, 'electric_chr': 134, 'electric': 71, 'earnings_latin_square_chr': 102, 'electric_supp': 121, 'radon_vary_intercept_floor_chr': 119, 'wells': 60, 'electric_one_pred': 118, 'radon_inter_vary_chr': 129, 'anova_radon_nopred': 124, 'electric_1a': 48, 'radon_intercept_chr': 134, 'radon.3': 116, 'sesame_multi_preds_3a': 115, 'radon_vary_si': 124, 'separation': 108, 'radon_group': 121, 'mesquite_volume': 127, 'sesame_street1': 68, 'wells_dist100': 70, 'earnings2': 110, 'radon_no_pool_chr': 133, 'hiv_inter_chr': 128, 'electric_tr': 129, 'anova_radon_nopred_chr': 132, 'radon_vary_intercept_nofloor': 115, 'wells_dist': 61, 'electric_multi_preds': 85, 'ideo_reparam': 120, 'radon_complete_pool': 132, 'kidiq_interaction_c2': 138, 'logearn_height': 185, 'y_x': 118, 'radon_vary_intercept_floor': 119, 'pilots_chr': 126, 'wells_interaction_c': 50, 'pilots': 127, 'kidiq_interaction_z': 133, 'kidscore_momhs': 121, 'kidiq_interaction': 106, 'radon_group_chr': 108, 'log10earn_height': 124, 'logearn_interaction': 64, 'radon.2': 80, 'logearn_logheight': 118, 'radon.nopooling': 101, 'electric_1a_chr': 114, 'radon_intercept': 131, 'mesquite': 139, 'hiv': 126, 'radon.pooling': 121, 'kidscore_momiq': 131, 'wells_interaction': 30, 'wells_probit': 43, 'electric_1b': 137, 'mesquite_vas': 135, 'radon_redundant_chr': 59, 'radon_no_pool': 118, 'earnings_latin_square': 39, 'mesquite_vash': 128, 'electric_trpre': 130, 'radon_vary_inter_slope_17.2': 71, 'radon.1': 112, 'mesquite_va': 136, 'sesame_multi_preds_3b': 109, 'radon_vary_intercept_a': 68, 'electric_1c': 123, 'radon_redundant': 82, 'wells_dae_inter': 90, 'earnings_vary_si_chr': 112, 'election88': 26, 'wells_dae': 30, 'grades': 116, 'multilevel_logistic_17.4': 56, 'hiv_inter': 128, 'dogs': 64, 'wells_dae_inter_c': 62, 'nes': 42, 'wells_dae_c': 76, 'logearn_interaction_z': 116, 'radon_vary_si_chr': 72, 'election88_expansion': 58, 'earn_height': 7, 'weight': 73, 'election88_full': 31, 'radon_vary_intercept_floor2': 76, 'flight_simulator_17.3': 128, 'dogs_log': 28, 'radon_vary_intercept_b': 24, 'radon_correlation_17.1': 68, 'logearn_height_male': 120, 'kidscore_momwork': 14, 'wells_predicted_log': 6, 'weight_censored': 1}\n",
      "Test\n",
      "{'lightspeed': 107}\n",
      "5393.0\n",
      "X train size::: 11706\n",
      "rf-n_est=40\n",
      "Validation accuracy: 0.8575089072345312\n",
      "[0.85824082 0.85262708 0.8470739  0.86373345 0.86586929]\n",
      "X train size::: 11706\n",
      "rf-n_est=80\n",
      "Validation accuracy: 0.8563981613177052\n",
      "[0.85952178 0.85390859 0.84493806 0.8590346  0.86458778]\n",
      "X train size::: 11706\n",
      "rf-n_est=100\n",
      "Validation accuracy: 0.8552873789219829\n",
      "[0.86122972 0.85177275 0.84066638 0.85946177 0.86330628]\n",
      "X train size::: 11706\n"
     ]
    }
   ],
   "source": [
    "python train.py -f csvs/lrm_features.csv -l csvs/lrm_metrics.csv -a rf -m rhat_min -suf avg -bw -plt -saveas plots/results_rhat_min_lrm.png -keep _ast_ dt_ var_min var_max data_size -st -tname lightspeed -cv -ignore_vi"
   ]
  },
  {
   "cell_type": "code",
   "execution_count": null,
   "metadata": {},
   "outputs": [],
   "source": []
  }
 ],
 "metadata": {
  "kernelspec": {
   "display_name": "Bash",
   "language": "bash",
   "name": "bash"
  },
  "language_info": {
   "codemirror_mode": "shell",
   "file_extension": ".sh",
   "mimetype": "text/x-sh",
   "name": "bash"
  }
 },
 "nbformat": 4,
 "nbformat_minor": 4
}
